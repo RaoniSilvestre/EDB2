{
  "nbformat": 4,
  "nbformat_minor": 0,
  "metadata": {
    "colab": {
      "provenance": [],
      "include_colab_link": true
    },
    "kernelspec": {
      "name": "python3",
      "display_name": "Python 3"
    },
    "language_info": {
      "name": "python"
    }
  },
  "cells": [
    {
      "cell_type": "markdown",
      "metadata": {
        "id": "view-in-github",
        "colab_type": "text"
      },
      "source": [
        "<a href=\"https://colab.research.google.com/github/RaoniSilvestre/EDB2/blob/main/AnaliseComplexidades/BubbleSort/BubbleSortRecursivo.ipynb\" target=\"_parent\"><img src=\"https://colab.research.google.com/assets/colab-badge.svg\" alt=\"Open In Colab\"/></a>"
      ]
    },
    {
      "cell_type": "markdown",
      "source": [
        "#BubbleSort-Recursivo\n",
        "\n",
        "Neste algoritmo de ordenação, são efetuadas comparações entre os dados amarzenados em um array de tamanho n. Cada elemento de posição *i*  será comparado com o elemento de posição *i* + 1, se o primeiro for maior (no caso de ordenação crescente), os elemento trocam de posições. Então o algoritmo chama a si mesmo até a coleção estar completamente ordenada.\n",
        "```\n",
        "function bubbleSort(array, tamanho) {\n",
        "    se tamanho <= 1 {                      // Θ(1)\n",
        "\tretornar\n",
        "    }\n",
        "\n",
        "    para i de 0 até tamanho-1 {            // Θ(n - 1)\n",
        "\t    se array[i] > array[i+1] {\n",
        "          trocar array[i] com array[i+1]\n",
        "        }\n",
        "    }\n",
        "    bubbleSort( array, tamanho-1)         // T(n - 1)\n",
        "}\n",
        "\n",
        "```\n",
        "---\n",
        "Analisando a função verifique que há um laço que faz *n* - 1 comparações. Além da chamada recursiva com tamanho de entrada decrementado em 1, logo com tempo de execução representado por T(*n* - 1). Assim, temos a seguinte expressão de recorrência:\n",
        "\n",
        "<br>\n",
        "$$\n",
        "T(n) =\n",
        "\\begin{cases}\n",
        "O(1),  \\text{ se } n ≤ 1\\\\\n",
        "T(n−1)+ (n-1),  \\text{ se } n > 1\n",
        "\\end{cases}\n",
        "$$\n",
        "<br>\n",
        "\n",
        "\n"
      ],
      "metadata": {
        "id": "SVJd52J-UY6X"
      }
    },
    {
      "cell_type": "markdown",
      "source": [
        "# Por Substituição\n",
        "\n",
        "Considerando a recorrência acima, mostraremos que o algoritmo é limitado por O(n²).\n",
        "\n",
        "Temos $T(n) \\leq T(n-1) + n$, queremos mostrar que T(n) é limitada superiormente por uma função F(n) = cn², para algum c. Para isso usaremos indução.\n",
        "\n",
        "### Caso base:\n",
        "\n",
        "$n = 1, T(1) = 1$\n",
        "\n",
        "$$\n",
        "T(n) \\leq cn² \\implies T(1) = 1 \\leq c(1²) \\implies 1 \\leq c\n",
        "$$\n",
        "\n",
        "### Passo indutivo:\n",
        "\n",
        "Hipotese: $T(k) \\leq ck², (∀k)[1 \\leq k \\leq n]$\n",
        "\n",
        "$$\n",
        "\\begin{align*}\n",
        "T(n) \\leq cn² &\\implies T(n-1) + n \\leq c(n-1)² + n \\leq cn² \\\\\n",
        "&\\implies c(n² -2n + 1) + n \\leq cn² \\\\\n",
        "&\\implies cn² -2nc + c + n \\leq cn² \\\\\n",
        "&\\implies -2nc + c + n \\leq 0 \\\\\n",
        "&\\implies c + n(1 - 2c) \\leq 0\n",
        "\\end{align*}\n",
        "$$\n",
        "\n",
        "\n",
        "Como `n` é sempre um valor positivo e tende ao infinito, para que $c + n(1 - 2c) < 0$ seja verdade, precisamos que $1-2c < 0$.\n",
        "\n",
        "\n",
        "$$\n",
        "\\begin{align*}\n",
        "1-2c < 0 &\\implies 1 < 2c \\\\\n",
        "&\\implies c > 1/2 \\\\\n",
        "\\end{align*}\n",
        "$$\n",
        "\n",
        "Logo, T(n) é O(n).\n"
      ],
      "metadata": {
        "id": "6YwBMoHwVzhW"
      }
    },
    {
      "cell_type": "markdown",
      "source": [],
      "metadata": {
        "id": "LZdhZ2mScV-I"
      }
    },
    {
      "cell_type": "markdown",
      "source": [
        "#Por Iteração\n",
        "Considerando que o recorrência acima. Vamos expandir-la até encontrar o caso base.\n",
        "<br>\n",
        "Aplica-se *n* -1 sobre a fórmula de T(n). E assim por diante.\n",
        "\n",
        "<br>\n",
        "$$\n",
        "\\begin{align*}\n",
        "T(n) &= T(n-1) + (n-1),\\\\\n",
        "&= (T(n-2) + (n-2)) + (n-1)\\\\\n",
        "&= (T(n-3) + (n-3) + (n-2)) + (n-1)\\\\\n",
        "&= ...\\\\\n",
        "T(n) &= T(n - k) +  \\sum_{i=1}^{k} n - i\n",
        "\\end{align*}\n",
        "$$\n",
        "<br>\n",
        "\n",
        "Quando k = n -1, temos:\n",
        "\n",
        "<br>\n",
        "$$\n",
        "\\begin{align*}\n",
        "T(n) &= T(1) + (n−1)+(n−2)+…+1\n",
        "\\end{align*}\n",
        "$$\n",
        "<br>\n",
        "\n",
        "Que é igual a:\n",
        "\n",
        "<br>\n",
        "$$\n",
        "\\begin{align*}\n",
        "T(n) &= T(1) + \\frac{n(n-1)}{2}\n",
        "\\end{align*}\n",
        "$$\n",
        "<br>\n",
        "\n",
        "Aqui, T(1) representa o custo da função no caso base. Podemos assumir que T(1) = O(1), já que não há comparações necessárias quando temos apenas um elemento.\n",
        "\n",
        "Portanto, a complexidade total é:\n",
        "\n",
        "<br>\n",
        "$$\n",
        "\\begin{align*}\n",
        "T(n) &= O(n^2)\n",
        "\\end{align*}\n",
        "$$\n",
        "<br>\n",
        "\n",
        "\n",
        "\n",
        "\n",
        "\n",
        "\n",
        "\n"
      ],
      "metadata": {
        "id": "D9t7Amc1eNZu"
      }
    },
    {
      "cell_type": "markdown",
      "source": [
        "#Árvore de Recursão\n",
        "\n",
        "A árvore de chamadas do bubbleSort começa com um nó raiz que representa o problema original de tamanho $n$ que dará origem a um filho, que por sua vez, dará origem a um filho e assim por diante até atingirmos o caso base, em que o tamanho do array é $n=1$, como mostrado a seguir:\n",
        "\n",
        "```\n",
        "T(n)------------------1n\n",
        "  |\n",
        "  |\n",
        "        \n",
        "T(n-1)----------------1(n-1)\n",
        "  |\n",
        "  |\n",
        "T(n-2)----------------1(n-2)\n",
        " ...\n",
        "T(1)\n",
        "```\n",
        "A altura da árvore é o número de níveis até chegar ao caso base. Na primeira chamada recursiva, temos o termo $T(n)$, em seguida $T(n-1)$, $T(n-2)$,... até $T(n - h) = T(1)$, onde h corresponde a altura da árvore.\n",
        "\n",
        "Calculando h:\n",
        "\n",
        "<br>\n",
        "$$\n",
        "\\begin{align*}\n",
        "T(n - h) = T(1) &\\implies n - h = 1\\\\\n",
        "&\\implies h = n - 1\\\\\n",
        "\\end{align*}\n",
        "$$\n",
        "<br>\n",
        "\n",
        "Como o tempo de execução do algoritmo corresponde corresponde a soma dos passos de todos os níveis, temos:\n",
        "\n",
        "<br>\n",
        "$$\n",
        "\\begin{align*}\n",
        "T(n) &= \\sum_{i=0}^{h} (n - i)\\\\\n",
        "&= \\sum_{i=0}^{h} n - \\sum_{i=0}^{h} i \\\\\n",
        "&= n^2 + \\frac{n(n - 1)}{2}\\\\\n",
        "&= O(n^2)\\\\\n",
        "\\end{align*}\n",
        "$$\n",
        "<br>\n"
      ],
      "metadata": {
        "id": "Dqhc_SnaeOF9"
      }
    },
    {
      "cell_type": "markdown",
      "source": [
        "#Teorema Mestre\n",
        "\n",
        "Pelo Teorema Mestre, podemos resolver uma recorrência que possua a forma:\n",
        "\n",
        "$$\n",
        "\\begin{align*}\n",
        "T(n) &= aT(\\frac{n}{b}) + Θ(n^k)\\\\\n",
        "\\end{align*}\n",
        "$$\n",
        "sendo $a, b > 1$ e $k≥ 0$.\n",
        "\n",
        "Para a recorrência do bubbleSort, não é possível aplicar o teorema.\n"
      ],
      "metadata": {
        "id": "lTUt72leeQS1"
      }
    }
  ]
}