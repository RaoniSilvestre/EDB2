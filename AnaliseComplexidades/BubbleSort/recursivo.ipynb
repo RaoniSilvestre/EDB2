{
  "nbformat": 4,
  "nbformat_minor": 0,
  "metadata": {
    "colab": {
      "provenance": [],
      "authorship_tag": "ABX9TyOS6m7+Qo5iqietGnD5ai7/",
      "include_colab_link": true
    },
    "kernelspec": {
      "name": "python3",
      "display_name": "Python 3"
    },
    "language_info": {
      "name": "python"
    }
  },
  "cells": [
    {
      "cell_type": "markdown",
      "metadata": {
        "id": "view-in-github",
        "colab_type": "text"
      },
      "source": [
        "<a href=\"https://colab.research.google.com/github/RaoniSilvestre/EDB2/blob/main/edb2.ipynb\" target=\"_parent\"><img src=\"https://colab.research.google.com/assets/colab-badge.svg\" alt=\"Open In Colab\"/></a>"
      ]
    },
    {
      "cell_type": "markdown",
      "source": [
        "#BubbleSort-Recursivo\n",
        "\n",
        "Neste algoritmo de ordenação, são efetuadas comparações entre os dados amarzenados em um array de tamanho n. Cada elemento de posição *i*  será comparado com o elemento de posição *i* + 1, se o primeiro for maior (no caso de ordenação crescente), os elemento trocam de posições. Então o algoritmo chama a si mesmo até a coleção estar completamente ordenada.\n",
        "```\n",
        "function bubbleSort(array, tamanho) {\n",
        "    se tamanho <= 1 {                      // Θ(1)\n",
        "\tretornar\n",
        "    }\n",
        "\n",
        "    para i de 0 até tamanho-1 {            // Θ(n - 1)\n",
        "\t    se array[i] > array[i+1] {\n",
        "          trocar array[i] com array[i+1]\n",
        "        }\n",
        "    }\n",
        "    bubbleSort( array, tamanho-1)         // T(n - 1)\n",
        "}\n",
        "\n",
        "```\n",
        "---\n",
        "Analisando a função verifique que há um laço que faz *n* - 1 comparações. Além da chamada recursiva com tamanho de entrada decrementado em 1, logo com tempo de execução representado por T(*n* - 1). Assim, temos a seguinte expressão de recorrência:\n",
        "\n",
        "<br>\n",
        "$$\n",
        "T(n) =\n",
        "\\begin{cases}\n",
        "O(1),  \\text{ se } n ≤ 1\\\\\n",
        "T(n−1)+ (n-1),  \\text{ se } n > 1\n",
        "\\end{cases}\n",
        "$$\n",
        "<br>\n",
        "\n",
        "\n"
      ],
      "metadata": {
        "id": "SVJd52J-UY6X"
      }
    },
    {
      "cell_type": "markdown",
      "source": [
        "#Por Substituição\n",
        "\n",
        "Considerando que o algoritmo acima\n"
      ],
      "metadata": {
        "id": "6YwBMoHwVzhW"
      }
    },
    {
      "cell_type": "markdown",
      "source": [
        "#Por Iteração\n",
        "Considerando que o recorrência acima. Vamos expandir-la até encontrar o caso base.\n",
        "<br>\n",
        "Aplica-se *n* -1 sobre a fórmula de T(n). E assim por diante.\n",
        "\n",
        "<br>\n",
        "$$\n",
        "\\begin{align*}\n",
        "T(n) &= T(n-1) + (n-1),\\\\\n",
        "&= (T(n-2) + (n-2)) + (n-1)\\\\\n",
        "&= (T(n-3) + (n-3) + (n-2)) + (n-1)\\\\\n",
        "&= ...\\\\\n",
        "T(n) &= T(n - k) +  \\sum_{i=1}^{k} n - i\n",
        "\\end{align*}\n",
        "$$\n",
        "<br>\n",
        "\n",
        "Quando k = n -1, temos:\n",
        "\n",
        "<br>\n",
        "$$\n",
        "\\begin{align*}\n",
        "T(n) &= T(1) + (n−1)+(n−2)+…+1\n",
        "\\end{align*}\n",
        "$$\n",
        "<br>\n",
        "\n",
        "Que é igual a:\n",
        "\n",
        "<br>\n",
        "$$\n",
        "\\begin{align*}\n",
        "T(n) &= T(1) + \\frac{n(n-1)}{2}\n",
        "\\end{align*}\n",
        "$$\n",
        "<br>\n",
        "\n",
        "Aqui, T(1) representa o custo da função no caso base. Podemos assumir que T(1) = O(1), já que não há comparações necessárias quando temos apenas um elemento.\n",
        "\n",
        "Portanto, a complexidade total é:\n",
        "\n",
        "<br>\n",
        "$$\n",
        "\\begin{align*}\n",
        "T(n) &= O(n^2)\n",
        "\\end{align*}\n",
        "$$\n",
        "<br>\n",
        "\n",
        "\n",
        "\n",
        "\n",
        "\n",
        "\n",
        "\n"
      ],
      "metadata": {
        "id": "D9t7Amc1eNZu"
      }
    },
    {
      "cell_type": "markdown",
      "source": [
        "#Árvore de Recursão\n",
        "\n",
        "Considerando que o algoritmo acima\n"
      ],
      "metadata": {
        "id": "Dqhc_SnaeOF9"
      }
    },
    {
      "cell_type": "markdown",
      "source": [
        "#Árvore de Recursão\n",
        "\n",
        "Considerando que o algoritmo acima\n"
      ],
      "metadata": {
        "id": "lTUt72leeQS1"
      }
    }
  ]
}
