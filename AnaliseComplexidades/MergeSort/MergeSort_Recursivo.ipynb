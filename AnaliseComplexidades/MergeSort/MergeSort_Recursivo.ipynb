{
  "nbformat": 4,
  "nbformat_minor": 0,
  "metadata": {
    "colab": {
      "provenance": [],
      "authorship_tag": "ABX9TyNpJwVfghdehguZIHU20mjz",
      "include_colab_link": true
    },
    "kernelspec": {
      "name": "python3",
      "display_name": "Python 3"
    },
    "language_info": {
      "name": "python"
    }
  },
  "cells": [
    {
      "cell_type": "markdown",
      "metadata": {
        "id": "view-in-github",
        "colab_type": "text"
      },
      "source": [
        "<a href=\"https://colab.research.google.com/github/RaoniSilvestre/EDB2/blob/main/AnaliseComplexidades/MergeSort/MergeSort_Recursivo.ipynb\" target=\"_parent\"><img src=\"https://colab.research.google.com/assets/colab-badge.svg\" alt=\"Open In Colab\"/></a>"
      ]
    },
    {
      "cell_type": "markdown",
      "source": [
        "#MergeSort-Recursivo\n",
        "\n",
        "Neste algoritmo de ordenação, a sequência de *n* elementos é dividida em duas subsênqueicias de *n*/2 elementos e não ordenadas recursivamente. Então as subsequência são intercaladas para produzir uma solução.\n",
        "\n",
        "```\n",
        "function mergeSort(array, esquerda, direita ) {\n",
        "    se esquerda >= direita {                          // Θ(1)\n",
        "    \tretornar\n",
        "    }\n",
        "    \n",
        "    meio = esquerda + (direita - esquerda) / 2       // Θ(1)\n",
        "\n",
        "    mergeSort(array, esquerda, meio)\n",
        "    mergeSort(array, meio+1, direita)\n",
        "    \n",
        "    merge(array, esquerda, meio, direita)\n",
        "}\n",
        "```\n",
        "Antes de calcular o tempo de execução do mergeSort, devemos analisar a função merge.\n",
        "```\n",
        "function merge(array, esquerda, meio, direita) {\n",
        "\n",
        "    arrayEsquerdo = elementos de array[esquerda] até array[meio]\n",
        "    arrayDireito = elementos de array[meio+1] até array[direita]\n",
        "\n",
        "\n",
        "    posiçãoAtual = esquerda\n",
        "\n",
        "    Enquanto esquerda não estiver vazia e direita não estiver vazia { //O(n)\n",
        "        se arrayEsquerdo[0] ≤ arrayDireito[0] {\n",
        "            sobrescrever arrayEsquerdo[0] em array[posiçãoAtual]\n",
        "            remover arrayEsquerdo[0] de arrayEsquerdo\n",
        "        }senão{\n",
        "            sobrescrever arrayDireito[0] em array[posiçãoAtual]\n",
        "            remover arrayDireito[0] de arrayDireito\n",
        "        }\n",
        "\tposiçãoAtual += 1\n",
        "    }\n",
        "    \n",
        "\n",
        "    Enquanto arrayEsquerdo não estiver vazio {\n",
        "      adicionar arrayEsquerdo[0] a array[posiçãoAtual]\n",
        "      remover arrayEsquerdo[0] de arrayEsquerdo\n",
        "      posiçãoAtual += 1\n",
        "    }\n",
        "    \n",
        "    Enquanto arrayDireito não estiver vazio {\n",
        "      adicionar arrayDireito[0] a array[posiçãoAtual]\n",
        "      remover arrayDireito[0] de arrayDireito\n",
        "      posiçãoAtual += 1\n",
        "    }\n",
        "}\n",
        "```\n",
        "A função merge faz a intercalação de dois arrays, pecorrendo todas as posições dos vetores, com custo de n = m<sub>1</sub> + m<sub>2</sub>, onde m<sub>1</sub> e m<sub>2</sub> são os tamanhos do vetor 1 e vetor 2, respectivamente.\n",
        "\n",
        "Assim, verifica-se que nosso método principal faz duas chamadas recursivas com tamanhos de entrada divididos pela metade, logo com tempo de execução representado por $T(\\frac{n}{2})$ cada uma.\n",
        "\n",
        "Portanto, a complexidade total é:\n",
        "\n",
        "<br>\n",
        "$$\n",
        "T(n) =\n",
        "\\begin{cases}\n",
        "O(1),  \\text{ se } n ≤ 1\\\\\n",
        "2T(\\frac{n}{2}) + n,  \\text{ se } n > 1\n",
        "\\end{cases}\n",
        "$$\n",
        "<br>\n",
        "\n"
      ],
      "metadata": {
        "id": "anmB6-_gRicb"
      }
    },
    {
      "cell_type": "markdown",
      "source": [
        "#Por Substituição\n",
        "\n",
        "Considerando que o algoritmo acima"
      ],
      "metadata": {
        "id": "cytS2sDczqtQ"
      }
    },
    {
      "cell_type": "markdown",
      "source": [
        "#Por Iteração\n",
        "Considerando que o recorrência acima. Vamos expandir-la até encontrar o caso base.\n",
        "<br>\n",
        "Aplica-se *n*/2 sobre a fórmula de T(n). E assim por diante.\n",
        "\n",
        "<br>\n",
        "$$\n",
        "\\begin{align*}\n",
        "T(n) &= 2T(\\frac{n}{2}) + n,\\\\\n",
        "&= 2(2T(\\frac{n}{4}) + \\frac{n}{2}) + n\\\\\n",
        "&= 2(2(2T(\\frac{n}{8}) + \\frac{n}{4}) + \\frac{n}{2}) + n\\\\\n",
        "&= ...\\\\\n",
        "T(n) &= 2^kT(\\frac{n}{2^k}) + k.n\n",
        "\\end{align*}\n",
        "$$\n",
        "<br>\n",
        "\n",
        "Vamos encontrar para qual valor de k, $\\frac{n}{2^k} = 1$.\n",
        "\n",
        "<br>\n",
        "$$\n",
        "\\begin{align*}\n",
        "\\frac{n}{2^k} = 1 &\\implies n = 2^k\\\\\n",
        "&\\implies k = log_{2} n\n",
        "\\end{align*}\n",
        "$$\n",
        "<br>\n",
        "\n",
        "Aplicando na recorrência:\n",
        "\n",
        "<br>\n",
        "$$\n",
        "\\begin{align*}\n",
        "T(n) &= 2^{log_{2} n}T(\\frac{n}{2^{log_{2} n}}) + n.{log_{2} n} \\\\\n",
        "&= n.T(\\frac{n}{n}) + n.{log_{2} n} \\\\\n",
        "&= n + n.log_{2} n\n",
        "\\end{align*}\\\\\n",
        "$$\n",
        "<br>\n",
        "\n",
        "Portanto, a complexidade total é:\n",
        "\n",
        "<br>\n",
        "$$\n",
        "\\begin{align*}\n",
        "T(n) &= O(n.log n)\n",
        "\\end{align*}\n",
        "$$\n",
        "<br>"
      ],
      "metadata": {
        "id": "zJDJc8JJMN__"
      }
    },
    {
      "cell_type": "markdown",
      "source": [
        "#Teorema Mestre\n",
        "\n",
        "Considerando que o algoritmo acima\n"
      ],
      "metadata": {
        "id": "aZVUDW1Izvey"
      }
    }
  ]
}